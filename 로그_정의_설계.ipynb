{
  "nbformat": 4,
  "nbformat_minor": 0,
  "metadata": {
    "colab": {
      "name": "로그 정의/ 설계",
      "provenance": [],
      "collapsed_sections": []
    },
    "kernelspec": {
      "name": "python3",
      "display_name": "Python 3"
    },
    "language_info": {
      "name": "python"
    }
  },
  "cells": [
    {
      "cell_type": "markdown",
      "source": [
        "### **로그 정의/ 설계**"
      ],
      "metadata": {
        "id": "iqLWoPOBQTlV"
      }
    },
    {
      "cell_type": "markdown",
      "source": [
        "로그 데이터는 최근 사용자의 사용성 및 행동 패턴을 확인하거나 유저 클러스터링, 모델링 등 다양한 목적으로 사용되는 행동 기반 데이터이다. 로그는 설문과 같은 사용자 응답 및 기억에 의존하는 데이터 수집 방법 대비, 행동을 정확하게 파악/예측할 수 있는 장점이 있다. 또 RDB의 결과론적인 데이터와 달리 특정 결과에 이르는 과정과 흐름을 상세히 파악할 수 있어, 서비스를 개선하는 데 매우 유용한 자료이다. 대신 데이터 용량이 크기 때문에 스토리지 관련 비용/리소스가 발생하고, JSON, CSV, TSV와 같은 비정형 텍스트 형태이므로 기존 RDB와는 다른 수집/처리 시스템과 전문 인력이 요구된다는 단점을 가지고 있다."
      ],
      "metadata": {
        "id": "-Uw5yzy6QWr_"
      }
    },
    {
      "cell_type": "code",
      "execution_count": null,
      "metadata": {
        "id": "hywZ8ZFkQE13"
      },
      "outputs": [],
      "source": [
        "# 로그 스키마 예시\n",
        "{\n",
        "    \"memid\":\" \", #int\n",
        "    \"sessionid\":\" \", #string\n",
        "    \"ver\":\" \", #string\n",
        "    \"screen\":\"Main\",#string\n",
        "    \"event\":\"View\",#string\n",
        "    \"area\":\"Seoul\",#string\n",
        "    \"group\":\"A\",#string,A or B...\n",
        "    \"params\": {\n",
        "                \"isGuest\":'T',#boolean\n",
        "                \"UserType\":\" \"#string\n",
        "    }\n",
        "}"
      ]
    },
    {
      "cell_type": "markdown",
      "source": [
        "### **JSON Parsing**"
      ],
      "metadata": {
        "id": "3SEN3BscRtZ_"
      }
    },
    {
      "cell_type": "markdown",
      "source": [
        "로그 정의후 수집이 이루어지면, JSON과 Pandas 라이브러리를 통해 판다스 데이터프레임 형태로 아래와 같이 파싱할 수 있다."
      ],
      "metadata": {
        "id": "UvWzPR4LRy-n"
      }
    },
    {
      "cell_type": "code",
      "source": [
        "import json\n",
        "import pandas as pd\n",
        "\n",
        "data = []\n",
        "mydf = pd.DataFrame()\n",
        "\n",
        "with open('파일명.json') as f:\n",
        "  for line in f:\n",
        "    data.append(json.loads(line))\n",
        "\n",
        "  for i in range(0,len(data)):\n",
        "    df=pd.DataFrame.from_dict([data[i]]) ##\n",
        "    mydf=mydf.append(df)\n",
        "\n",
        "mydf.reset_index(drop=True,inplace=True)\n",
        "\n",
        "mydf['date'] = pd.to_datetime(mydf['date'],unit='s').df.date\n",
        "mtdf['date'] = mydf['date'].astype('datetime64[ns]') "
      ],
      "metadata": {
        "id": "6HR2xBAYRyNF"
      },
      "execution_count": null,
      "outputs": []
    }
  ]
}