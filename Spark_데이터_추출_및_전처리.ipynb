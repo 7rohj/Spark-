{
  "nbformat": 4,
  "nbformat_minor": 0,
  "metadata": {
    "colab": {
      "name": "Spark 데이터 추출 및 전처리",
      "provenance": [],
      "collapsed_sections": []
    },
    "kernelspec": {
      "name": "python3",
      "display_name": "Python 3"
    },
    "language_info": {
      "name": "python"
    }
  },
  "cells": [
    {
      "cell_type": "markdown",
      "source": [
        "### Spark 데이터 추출 및 전처리"
      ],
      "metadata": {
        "id": "YVviBXvaByb6"
      }
    },
    {
      "cell_type": "markdown",
      "source": [
        "SparkContext 생성 </br>\n",
        "DataFrame 생성 및 추출 </br>\n",
        "전처리 및 분석"
      ],
      "metadata": {
        "id": "RL28nQEFB2JX"
      }
    },
    {
      "cell_type": "code",
      "source": [
        "! pip install pyspark"
      ],
      "metadata": {
        "colab": {
          "base_uri": "https://localhost:8080/"
        },
        "id": "jSDvS-MECJ65",
        "outputId": "5335e6cb-d5e3-47cc-d33d-3b4f4e88d5e9"
      },
      "execution_count": null,
      "outputs": [
        {
          "output_type": "stream",
          "name": "stdout",
          "text": [
            "Looking in indexes: https://pypi.org/simple, https://us-python.pkg.dev/colab-wheels/public/simple/\n",
            "Collecting pyspark\n",
            "  Downloading pyspark-3.3.0.tar.gz (281.3 MB)\n",
            "\u001b[K     |████████████████████████████████| 281.3 MB 40 kB/s \n",
            "\u001b[?25hCollecting py4j==0.10.9.5\n",
            "  Downloading py4j-0.10.9.5-py2.py3-none-any.whl (199 kB)\n",
            "\u001b[K     |████████████████████████████████| 199 kB 41.8 MB/s \n",
            "\u001b[?25hBuilding wheels for collected packages: pyspark\n",
            "  Building wheel for pyspark (setup.py) ... \u001b[?25l\u001b[?25hdone\n",
            "  Created wheel for pyspark: filename=pyspark-3.3.0-py2.py3-none-any.whl size=281764026 sha256=3a69408ecaff5386b6611be01e306b6851feffc27e29ee75c9d1f182cc3ddf2d\n",
            "  Stored in directory: /root/.cache/pip/wheels/7a/8e/1b/f73a52650d2e5f337708d9f6a1750d451a7349a867f928b885\n",
            "Successfully built pyspark\n",
            "Installing collected packages: py4j, pyspark\n",
            "Successfully installed py4j-0.10.9.5 pyspark-3.3.0\n"
          ]
        }
      ]
    },
    {
      "cell_type": "code",
      "execution_count": null,
      "metadata": {
        "id": "kwWtfyf9BPSW"
      },
      "outputs": [],
      "source": [
        "# 모듈 불러오기\n",
        "from pyspark.sql import SQLContext\n",
        "from pyspark.sql.functions import *"
      ]
    },
    {
      "cell_type": "code",
      "source": [
        "# 라이브러리 통해 csv 불러오기\n",
        "df = sqlContext.read.format('com.databricks.spark.csv')\\\n",
        "                    .options(header='true',inferSchema='true')\\\n",
        "                    .load('./doc_use_log.csv')"
      ],
      "metadata": {
        "id": "rC8pPKJ9CF-w"
      },
      "execution_count": 14,
      "outputs": []
    },
    {
      "cell_type": "code",
      "source": [
        "# 데이터베이스인 경우 데이터프레임에서 tmp table로 변환\n",
        "df.registerTempTable(\"df_tmp\")"
      ],
      "metadata": {
        "colab": {
          "base_uri": "https://localhost:8080/"
        },
        "id": "M3uJAFA2FJrn",
        "outputId": "727a8887-bafb-4250-9836-596f68d95f85"
      },
      "execution_count": 15,
      "outputs": [
        {
          "output_type": "stream",
          "name": "stderr",
          "text": [
            "/usr/local/lib/python3.7/dist-packages/pyspark/sql/dataframe.py:229: FutureWarning: Deprecated in 2.0, use createOrReplaceTempView instead.\n",
            "  warnings.warn(\"Deprecated in 2.0, use createOrReplaceTempView instead.\", FutureWarning)\n"
          ]
        }
      ]
    },
    {
      "cell_type": "code",
      "source": [
        "df.head(3)"
      ],
      "metadata": {
        "colab": {
          "base_uri": "https://localhost:8080/"
        },
        "id": "_jhft2heNWOc",
        "outputId": "ecd6664a-a70c-4b3a-8dbd-40825975f16b"
      },
      "execution_count": 20,
      "outputs": [
        {
          "output_type": "execute_result",
          "data": {
            "text/plain": [
              "[Row(actiontype='OPEN', ismydoc=False, ext='PDF', sessionid='9400fd2e43d7dc2d054ca78806236ee1', documentposition='LOCALSTORAGE', datetime='2016.7.18'),\n",
              " Row(actiontype='CLOSE', ismydoc=False, ext='PDF', sessionid='9400fd2e43d7dc2d054ca78806236ee1', documentposition='LOCALSTORAGE', datetime='2016.7.18'),\n",
              " Row(actiontype='OPEN', ismydoc=True, ext='PDF', sessionid='9400fd2e43d7dc2d054ca78806236ee1', documentposition='MYPOLARISDRIVE', datetime='2016.7.18')]"
            ]
          },
          "metadata": {},
          "execution_count": 20
        }
      ]
    },
    {
      "cell_type": "code",
      "source": [
        "# sql을 통해 테이블로부터 데이터 추출\n",
        "df1 = sqlContext.sql(\"select ismydoc, actiontype, sessionid, datetime from df_tmp where ismydoc = true\")"
      ],
      "metadata": {
        "id": "4E5fFAQAFJ0O"
      },
      "execution_count": 16,
      "outputs": []
    },
    {
      "cell_type": "code",
      "source": [
        "df1"
      ],
      "metadata": {
        "id": "YJhGebrlFJ3N",
        "colab": {
          "base_uri": "https://localhost:8080/"
        },
        "outputId": "c72bb3c1-d99c-4d62-e491-5bcfdfa60d48"
      },
      "execution_count": 17,
      "outputs": [
        {
          "output_type": "execute_result",
          "data": {
            "text/plain": [
              "DataFrame[ismydoc: boolean, actiontype: string, sessionid: string, datetime: string]"
            ]
          },
          "metadata": {},
          "execution_count": 17
        }
      ]
    },
    {
      "cell_type": "code",
      "source": [
        "## Laze Execution\n",
        "df2 = sqlContext.sql(\"select * from df_tmp\")"
      ],
      "metadata": {
        "id": "oKm3iXCQFJ5h"
      },
      "execution_count": 18,
      "outputs": []
    },
    {
      "cell_type": "code",
      "source": [
        "df2_pdf = df2.select(\"sessionid\", \"ext\").filter(\"ext=='PDF' or ext='DOC'\").dropDuplicates().cache()\n",
        "df2.distinct().count() #"
      ],
      "metadata": {
        "colab": {
          "base_uri": "https://localhost:8080/"
        },
        "id": "G0w9F4vjM-JE",
        "outputId": "37e656ee-e814-4a52-aa4e-399f4346e7fd"
      },
      "execution_count": 19,
      "outputs": [
        {
          "output_type": "execute_result",
          "data": {
            "text/plain": [
              "301833"
            ]
          },
          "metadata": {},
          "execution_count": 19
        }
      ]
    },
    {
      "cell_type": "code",
      "source": [
        "df2_min_date=df2.groupby(\"sessionid\").agg(min(\"datetime\").alias(\"min_date\")) # groupby().agg(())\n",
        "df2_min_date.show()"
      ],
      "metadata": {
        "colab": {
          "base_uri": "https://localhost:8080/"
        },
        "id": "CUXhCmmLM-LK",
        "outputId": "2fa460d4-77b6-42ab-daef-ae5ba71624ec"
      },
      "execution_count": 22,
      "outputs": [
        {
          "output_type": "stream",
          "name": "stdout",
          "text": [
            "+--------------------+---------+\n",
            "|           sessionid| min_date|\n",
            "+--------------------+---------+\n",
            "|0001625bdb4fb9136...|2016.7.19|\n",
            "|00037c1d86c69902b...|2016.7.27|\n",
            "|00042bfc107cef995...| 2016.7.9|\n",
            "|00050ec6afac496d0...|2016.7.14|\n",
            "|00057c8dd7571757f...| 2016.7.5|\n",
            "|00072e9f8dc9f3fdd...|2016.7.25|\n",
            "|0007fab4b524ec1cb...|2016.7.21|\n",
            "|0008a6f44a79ce8d5...|2016.7.20|\n",
            "|00092416a5d734e1f...|2016.7.15|\n",
            "|00095209f71059966...|2016.7.24|\n",
            "|000aaad0732dcc29a...|2016.7.12|\n",
            "|000acf8c21536985e...|2016.7.18|\n",
            "|000ad8bfdff1ac4ab...|2016.7.17|\n",
            "|000cb1674586adf43...|2016.7.26|\n",
            "|000d2213fadedf76d...| 2016.7.5|\n",
            "|000e2c9feea14df21...| 2016.7.1|\n",
            "|0010529888ad09c03...|2016.7.11|\n",
            "|0012b5034e55e1760...| 2016.7.6|\n",
            "|0013d2118e4ad6f4f...|2016.7.24|\n",
            "|00157f9e3dcf17ce0...|2016.7.20|\n",
            "+--------------------+---------+\n",
            "only showing top 20 rows\n",
            "\n"
          ]
        }
      ]
    },
    {
      "cell_type": "code",
      "source": [
        "df2_join = df2_pdf.join(df2_min_date,\"sessionid\",\"left\")\n",
        "df2_join.show()"
      ],
      "metadata": {
        "colab": {
          "base_uri": "https://localhost:8080/"
        },
        "id": "NGR3XHQ9M-NI",
        "outputId": "109e6d0f-9f02-4269-971b-6b3400ebf4b6"
      },
      "execution_count": 24,
      "outputs": [
        {
          "output_type": "stream",
          "name": "stdout",
          "text": [
            "+--------------------+---+---------+\n",
            "|           sessionid|ext| min_date|\n",
            "+--------------------+---+---------+\n",
            "|551de498388693734...|PDF| 2016.7.9|\n",
            "|ffef6402dac05483f...|PDF|2016.7.12|\n",
            "|635a5c8d3df7b0a40...|PDF|2016.7.15|\n",
            "|c389b7b211b044b56...|PDF|2016.7.22|\n",
            "|7fb01e6cc98ece873...|DOC| 2016.7.1|\n",
            "|d5b91aaa2093e421a...|PDF| 2016.7.1|\n",
            "|83be4b26072cc132d...|DOC|2016.7.14|\n",
            "|204f6839bbe3e5504...|PDF|2016.7.15|\n",
            "|8c8fed61f21992f00...|PDF|2016.7.17|\n",
            "|0dd214b151ccbd20d...|DOC|2016.7.26|\n",
            "|10ad1c7d1d4f7f4ad...|PDF|2016.7.25|\n",
            "|33c6ef601e915c1a0...|PDF|2016.7.14|\n",
            "|a7d01eac986e2f8f1...|PDF| 2016.7.1|\n",
            "|e57b225c29eb34e4a...|PDF|2016.7.26|\n",
            "|7ef129729b2fedbd3...|PDF| 2016.7.7|\n",
            "|f86a2b77e67c7ca72...|PDF|2016.7.20|\n",
            "|258b4a4457e738216...|PDF|2016.7.13|\n",
            "|85b20d33749c548b7...|PDF|2016.7.30|\n",
            "|4555db28c4d95abb1...|DOC|2016.7.27|\n",
            "|9ad56677f726a1718...|PDF|2016.7.30|\n",
            "+--------------------+---+---------+\n",
            "only showing top 20 rows\n",
            "\n"
          ]
        }
      ]
    },
    {
      "cell_type": "code",
      "source": [
        "df2_join1=df2_join.groupby(\"min_date\",\"ext\").agg(count(\"sessionid\").alias(\"cnt\"))\n",
        "\n",
        "df2_join1.describe().show()"
      ],
      "metadata": {
        "colab": {
          "base_uri": "https://localhost:8080/"
        },
        "id": "U1ENCDZ3OMra",
        "outputId": "1349d066-afa2-4793-ca53-300b073c8b5b"
      },
      "execution_count": 25,
      "outputs": [
        {
          "output_type": "stream",
          "name": "stdout",
          "text": [
            "+-------+--------+----+-----------------+\n",
            "|summary|min_date| ext|              cnt|\n",
            "+-------+--------+----+-----------------+\n",
            "|  count|      60|  60|               60|\n",
            "|   mean|    null|null|809.6333333333333|\n",
            "| stddev|    null|null|473.5906108303528|\n",
            "|    min|2016.7.1| DOC|              231|\n",
            "|    max|2016.7.9| PDF|             1503|\n",
            "+-------+--------+----+-----------------+\n",
            "\n"
          ]
        }
      ]
    },
    {
      "cell_type": "code",
      "source": [
        "# 🐼 판다스\n",
        "df2_pd = df2.toPandas()\n",
        "df2_pd.head()\n",
        "df2_pd.describe()"
      ],
      "metadata": {
        "colab": {
          "base_uri": "https://localhost:8080/",
          "height": 175
        },
        "id": "xf5FIj2eOZWh",
        "outputId": "6181e84e-e315-4ed7-cd47-093af021c586"
      },
      "execution_count": 27,
      "outputs": [
        {
          "output_type": "execute_result",
          "data": {
            "text/plain": [
              "       actiontype ismydoc     ext                         sessionid  \\\n",
              "count      301861  301861  301861                            301861   \n",
              "unique          8       2      16                            114994   \n",
              "top          OPEN   False     PDF  7067a43577238ba049257fbde912bb04   \n",
              "freq       151802  183129   82004                                31   \n",
              "\n",
              "       documentposition   datetime  \n",
              "count            301861     301861  \n",
              "unique                7         30  \n",
              "top            OTHERAPP  2016.7.12  \n",
              "freq             213779      12340  "
            ],
            "text/html": [
              "\n",
              "  <div id=\"df-d31993cc-075b-4cf5-949f-97c7f937d5b7\">\n",
              "    <div class=\"colab-df-container\">\n",
              "      <div>\n",
              "<style scoped>\n",
              "    .dataframe tbody tr th:only-of-type {\n",
              "        vertical-align: middle;\n",
              "    }\n",
              "\n",
              "    .dataframe tbody tr th {\n",
              "        vertical-align: top;\n",
              "    }\n",
              "\n",
              "    .dataframe thead th {\n",
              "        text-align: right;\n",
              "    }\n",
              "</style>\n",
              "<table border=\"1\" class=\"dataframe\">\n",
              "  <thead>\n",
              "    <tr style=\"text-align: right;\">\n",
              "      <th></th>\n",
              "      <th>actiontype</th>\n",
              "      <th>ismydoc</th>\n",
              "      <th>ext</th>\n",
              "      <th>sessionid</th>\n",
              "      <th>documentposition</th>\n",
              "      <th>datetime</th>\n",
              "    </tr>\n",
              "  </thead>\n",
              "  <tbody>\n",
              "    <tr>\n",
              "      <th>count</th>\n",
              "      <td>301861</td>\n",
              "      <td>301861</td>\n",
              "      <td>301861</td>\n",
              "      <td>301861</td>\n",
              "      <td>301861</td>\n",
              "      <td>301861</td>\n",
              "    </tr>\n",
              "    <tr>\n",
              "      <th>unique</th>\n",
              "      <td>8</td>\n",
              "      <td>2</td>\n",
              "      <td>16</td>\n",
              "      <td>114994</td>\n",
              "      <td>7</td>\n",
              "      <td>30</td>\n",
              "    </tr>\n",
              "    <tr>\n",
              "      <th>top</th>\n",
              "      <td>OPEN</td>\n",
              "      <td>False</td>\n",
              "      <td>PDF</td>\n",
              "      <td>7067a43577238ba049257fbde912bb04</td>\n",
              "      <td>OTHERAPP</td>\n",
              "      <td>2016.7.12</td>\n",
              "    </tr>\n",
              "    <tr>\n",
              "      <th>freq</th>\n",
              "      <td>151802</td>\n",
              "      <td>183129</td>\n",
              "      <td>82004</td>\n",
              "      <td>31</td>\n",
              "      <td>213779</td>\n",
              "      <td>12340</td>\n",
              "    </tr>\n",
              "  </tbody>\n",
              "</table>\n",
              "</div>\n",
              "      <button class=\"colab-df-convert\" onclick=\"convertToInteractive('df-d31993cc-075b-4cf5-949f-97c7f937d5b7')\"\n",
              "              title=\"Convert this dataframe to an interactive table.\"\n",
              "              style=\"display:none;\">\n",
              "        \n",
              "  <svg xmlns=\"http://www.w3.org/2000/svg\" height=\"24px\"viewBox=\"0 0 24 24\"\n",
              "       width=\"24px\">\n",
              "    <path d=\"M0 0h24v24H0V0z\" fill=\"none\"/>\n",
              "    <path d=\"M18.56 5.44l.94 2.06.94-2.06 2.06-.94-2.06-.94-.94-2.06-.94 2.06-2.06.94zm-11 1L8.5 8.5l.94-2.06 2.06-.94-2.06-.94L8.5 2.5l-.94 2.06-2.06.94zm10 10l.94 2.06.94-2.06 2.06-.94-2.06-.94-.94-2.06-.94 2.06-2.06.94z\"/><path d=\"M17.41 7.96l-1.37-1.37c-.4-.4-.92-.59-1.43-.59-.52 0-1.04.2-1.43.59L10.3 9.45l-7.72 7.72c-.78.78-.78 2.05 0 2.83L4 21.41c.39.39.9.59 1.41.59.51 0 1.02-.2 1.41-.59l7.78-7.78 2.81-2.81c.8-.78.8-2.07 0-2.86zM5.41 20L4 18.59l7.72-7.72 1.47 1.35L5.41 20z\"/>\n",
              "  </svg>\n",
              "      </button>\n",
              "      \n",
              "  <style>\n",
              "    .colab-df-container {\n",
              "      display:flex;\n",
              "      flex-wrap:wrap;\n",
              "      gap: 12px;\n",
              "    }\n",
              "\n",
              "    .colab-df-convert {\n",
              "      background-color: #E8F0FE;\n",
              "      border: none;\n",
              "      border-radius: 50%;\n",
              "      cursor: pointer;\n",
              "      display: none;\n",
              "      fill: #1967D2;\n",
              "      height: 32px;\n",
              "      padding: 0 0 0 0;\n",
              "      width: 32px;\n",
              "    }\n",
              "\n",
              "    .colab-df-convert:hover {\n",
              "      background-color: #E2EBFA;\n",
              "      box-shadow: 0px 1px 2px rgba(60, 64, 67, 0.3), 0px 1px 3px 1px rgba(60, 64, 67, 0.15);\n",
              "      fill: #174EA6;\n",
              "    }\n",
              "\n",
              "    [theme=dark] .colab-df-convert {\n",
              "      background-color: #3B4455;\n",
              "      fill: #D2E3FC;\n",
              "    }\n",
              "\n",
              "    [theme=dark] .colab-df-convert:hover {\n",
              "      background-color: #434B5C;\n",
              "      box-shadow: 0px 1px 3px 1px rgba(0, 0, 0, 0.15);\n",
              "      filter: drop-shadow(0px 1px 2px rgba(0, 0, 0, 0.3));\n",
              "      fill: #FFFFFF;\n",
              "    }\n",
              "  </style>\n",
              "\n",
              "      <script>\n",
              "        const buttonEl =\n",
              "          document.querySelector('#df-d31993cc-075b-4cf5-949f-97c7f937d5b7 button.colab-df-convert');\n",
              "        buttonEl.style.display =\n",
              "          google.colab.kernel.accessAllowed ? 'block' : 'none';\n",
              "\n",
              "        async function convertToInteractive(key) {\n",
              "          const element = document.querySelector('#df-d31993cc-075b-4cf5-949f-97c7f937d5b7');\n",
              "          const dataTable =\n",
              "            await google.colab.kernel.invokeFunction('convertToInteractive',\n",
              "                                                     [key], {});\n",
              "          if (!dataTable) return;\n",
              "\n",
              "          const docLinkHtml = 'Like what you see? Visit the ' +\n",
              "            '<a target=\"_blank\" href=https://colab.research.google.com/notebooks/data_table.ipynb>data table notebook</a>'\n",
              "            + ' to learn more about interactive tables.';\n",
              "          element.innerHTML = '';\n",
              "          dataTable['output_type'] = 'display_data';\n",
              "          await google.colab.output.renderOutput(dataTable, element);\n",
              "          const docLink = document.createElement('div');\n",
              "          docLink.innerHTML = docLinkHtml;\n",
              "          element.appendChild(docLink);\n",
              "        }\n",
              "      </script>\n",
              "    </div>\n",
              "  </div>\n",
              "  "
            ]
          },
          "metadata": {},
          "execution_count": 27
        }
      ]
    }
  ]
}