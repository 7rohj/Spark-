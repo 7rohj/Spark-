{
  "nbformat": 4,
  "nbformat_minor": 0,
  "metadata": {
    "colab": {
      "name": "SQL 데이터 추출",
      "provenance": [],
      "collapsed_sections": []
    },
    "kernelspec": {
      "name": "python3",
      "display_name": "Python 3"
    },
    "language_info": {
      "name": "python"
    }
  },
  "cells": [
    {
      "cell_type": "markdown",
      "source": [
        "### **SQL 데이터 추출**"
      ],
      "metadata": {
        "id": "whAEfXQVzW5M"
      }
    },
    {
      "cell_type": "code",
      "execution_count": 1,
      "metadata": {
        "colab": {
          "base_uri": "https://localhost:8080/"
        },
        "id": "2DYgKBH0yzFF",
        "outputId": "91811312-5c1e-4c80-d5d7-60a3c5684888"
      },
      "outputs": [
        {
          "output_type": "stream",
          "name": "stdout",
          "text": [
            "Looking in indexes: https://pypi.org/simple, https://us-python.pkg.dev/colab-wheels/public/simple/\n",
            "Collecting pandasql\n",
            "  Downloading pandasql-0.7.3.tar.gz (26 kB)\n",
            "Requirement already satisfied: numpy in /usr/local/lib/python3.7/dist-packages (from pandasql) (1.21.6)\n",
            "Requirement already satisfied: pandas in /usr/local/lib/python3.7/dist-packages (from pandasql) (1.3.5)\n",
            "Requirement already satisfied: sqlalchemy in /usr/local/lib/python3.7/dist-packages (from pandasql) (1.4.39)\n",
            "Requirement already satisfied: pytz>=2017.3 in /usr/local/lib/python3.7/dist-packages (from pandas->pandasql) (2022.1)\n",
            "Requirement already satisfied: python-dateutil>=2.7.3 in /usr/local/lib/python3.7/dist-packages (from pandas->pandasql) (2.8.2)\n",
            "Requirement already satisfied: six>=1.5 in /usr/local/lib/python3.7/dist-packages (from python-dateutil>=2.7.3->pandas->pandasql) (1.15.0)\n",
            "Requirement already satisfied: importlib-metadata in /usr/local/lib/python3.7/dist-packages (from sqlalchemy->pandasql) (4.12.0)\n",
            "Requirement already satisfied: greenlet!=0.4.17 in /usr/local/lib/python3.7/dist-packages (from sqlalchemy->pandasql) (1.1.2)\n",
            "Requirement already satisfied: zipp>=0.5 in /usr/local/lib/python3.7/dist-packages (from importlib-metadata->sqlalchemy->pandasql) (3.8.1)\n",
            "Requirement already satisfied: typing-extensions>=3.6.4 in /usr/local/lib/python3.7/dist-packages (from importlib-metadata->sqlalchemy->pandasql) (4.1.1)\n",
            "Building wheels for collected packages: pandasql\n",
            "  Building wheel for pandasql (setup.py) ... \u001b[?25l\u001b[?25hdone\n",
            "  Created wheel for pandasql: filename=pandasql-0.7.3-py3-none-any.whl size=26784 sha256=48b4437a2f6724e8f045ecf983f8c6c4075a926b495e92f21af7e33f077e800f\n",
            "  Stored in directory: /root/.cache/pip/wheels/5c/4b/ec/41f4e116c8053c3654e2c2a47c62b4fca34cc67ef7b55deb7f\n",
            "Successfully built pandasql\n",
            "Installing collected packages: pandasql\n",
            "Successfully installed pandasql-0.7.3\n"
          ]
        }
      ],
      "source": [
        "! pip install -U pandasql"
      ]
    },
    {
      "cell_type": "code",
      "source": [
        "import pandas as pd"
      ],
      "metadata": {
        "id": "R1-4XnzS0yqx"
      },
      "execution_count": 3,
      "outputs": []
    },
    {
      "cell_type": "code",
      "source": [
        "df = pd.read_csv('./doc_use_log.csv')\\\n",
        "                .sample(frac=0.01,replace=False) # 샘플링 전체 데이터에서의 0.01만 추출"
      ],
      "metadata": {
        "id": "lEsQYkckz5cw"
      },
      "execution_count": 61,
      "outputs": []
    },
    {
      "cell_type": "code",
      "source": [
        "# 쿼리!\n",
        "from pandasql import *\n",
        "\n",
        "q = \"SELECT * FROM df WHERE ext = 'PDF' AND ismydoc = '0' LIMIT 10\""
      ],
      "metadata": {
        "id": "CIw7F3Qd0XoM"
      },
      "execution_count": 50,
      "outputs": []
    },
    {
      "cell_type": "code",
      "source": [
        "print (sqldf(q, locals()).to_string())"
      ],
      "metadata": {
        "colab": {
          "base_uri": "https://localhost:8080/"
        },
        "id": "uDqQLPFK0XqC",
        "outputId": "e0cf7fad-e18b-4c66-b6fa-bf52ac6cd356"
      },
      "execution_count": 7,
      "outputs": [
        {
          "output_type": "stream",
          "name": "stdout",
          "text": [
            "  actiontype  ismydoc  ext                         sessionid documentposition   datetime\n",
            "0       OPEN        0  PDF  dc5f730fcd9c635e92979f3730d6e694         OTHERAPP  2016.7.22\n",
            "1       OPEN        0  PDF  0380197dc2f17dbc7ae9b4ea65e440de         OTHERAPP  2016.7.28\n",
            "2       OPEN        0  PDF  c811bcc12ce9cfb6035f5fbd0de06460         OTHERAPP  2016.7.29\n",
            "3      CLOSE        0  PDF  0fe495a1fd7237f2599a428bf1d27152         OTHERAPP   2016.7.3\n",
            "4       OPEN        0  PDF  8409348eace67f3ffadb5070992f28c3         OTHERAPP  2016.7.20\n",
            "5       OPEN        0  PDF  3df2da7ae48f30d92f6938423b1687eb         OTHERAPP   2016.7.3\n",
            "6      CLOSE        0  PDF  3a1f91a5cc1ad334d5466d21c00742f1         OTHERAPP  2016.7.16\n",
            "7       OPEN        0  PDF  47ef392ce0e68549a02bc7852ddd4515         OTHERAPP  2016.7.26\n",
            "8      CLOSE        0  PDF  3dda9f6a5e275d24ecfa9596702aaa8b         OTHERAPP   2016.7.2\n",
            "9      CLOSE        0  PDF  0654e1566976e8842e7ac2d9ea688a13         OTHERAPP   2016.7.7\n"
          ]
        }
      ]
    },
    {
      "cell_type": "code",
      "source": [
        "q = \"\"\"\n",
        "  SELECT\n",
        "  ext, count(ext) as count, count(distinct sessionid) as unq_sess\n",
        "  FROM df\n",
        "  GROUP BY ext\n",
        "  ORDER BY count DESC\n",
        "  \"\"\""
      ],
      "metadata": {
        "id": "zAJCKnZn0XsR"
      },
      "execution_count": 8,
      "outputs": []
    },
    {
      "cell_type": "code",
      "source": [
        "print (sqldf(q,locals()).to_string())"
      ],
      "metadata": {
        "colab": {
          "base_uri": "https://localhost:8080/"
        },
        "id": "Pb06XA1O0Xvy",
        "outputId": "78631db8-9d14-4126-f497-d1556d4e0242"
      },
      "execution_count": 9,
      "outputs": [
        {
          "output_type": "stream",
          "name": "stdout",
          "text": [
            "     ext  count  unq_sess\n",
            "0    PDF    798       794\n",
            "1   DOCX    592       585\n",
            "2   XLSX    531       523\n",
            "3    DOC    249       248\n",
            "4    XLS    248       247\n",
            "5    HWP    246       246\n",
            "6   PPTX    150       148\n",
            "7    TXT    111       110\n",
            "8    PPT     59        59\n",
            "9   PPSX     27        27\n",
            "10   ODT      6         6\n",
            "11   PPS      2         2\n"
          ]
        }
      ]
    },
    {
      "cell_type": "code",
      "source": [
        "# 테이블 조인\n",
        "ios = pd.read_csv('./ios.csv') \n",
        "\n",
        "q = \"\"\"\n",
        "  SELECT A.*,B.flag\n",
        "  FROM df A\n",
        "  LEFT JOIN\n",
        "  (\n",
        "    SELECT sessionid, flag\n",
        "    FROM ios\n",
        "  ) B\n",
        "  ON A.sessionid = B.sessionid\n",
        "  WHERE B.flag='iOS'\n",
        "  \"\"\""
      ],
      "metadata": {
        "id": "EkC4lrHI0XyT"
      },
      "execution_count": 62,
      "outputs": []
    },
    {
      "cell_type": "code",
      "source": [
        "print (sqldf(q,locals()).to_string())"
      ],
      "metadata": {
        "colab": {
          "base_uri": "https://localhost:8080/"
        },
        "id": "72BNNqW62gqD",
        "outputId": "081552e4-7c55-4243-f027-48653d14767b"
      },
      "execution_count": 19,
      "outputs": [
        {
          "output_type": "stream",
          "name": "stdout",
          "text": [
            "  actiontype  ismydoc   ext                         sessionid documentposition   datetime flag\n",
            "0       OPEN        0  XLSX  18bd4e98e9a46eccbaa01082adeca66b         OTHERAPP  2016.7.30  iOS\n",
            "1       OPEN        0  XLSX  c4441d6635e2f8452f45245d111402d3         OTHERAPP   2016.7.7  iOS\n"
          ]
        }
      ]
    },
    {
      "cell_type": "markdown",
      "source": [
        "### **연습문제**"
      ],
      "metadata": {
        "id": "prZpDljq3JUL"
      }
    },
    {
      "cell_type": "markdown",
      "source": [
        "#### **Question 1**"
      ],
      "metadata": {
        "id": "Q1d-o6z03ONm"
      }
    },
    {
      "cell_type": "markdown",
      "source": [
        "- df 테이블의 Action Type 값(항목)별 유니크한 세션수는?\n",
        "- 유니크 세션수 기준으로 내림차순 정렬하기"
      ],
      "metadata": {
        "id": "JKaPbPDF3SFn"
      }
    },
    {
      "cell_type": "code",
      "source": [
        "# distinct..\n",
        "q = \"\"\"\n",
        "  SELECT count(sessionid) as count\n",
        "  FROM df\n",
        "  GROUP BY actiontype\n",
        "  ORDER BY count DESC\n",
        "  \"\"\""
      ],
      "metadata": {
        "id": "IyUenOHl2gsX"
      },
      "execution_count": 21,
      "outputs": []
    },
    {
      "cell_type": "code",
      "source": [
        "print(sqldf(q,locals()).to_string())"
      ],
      "metadata": {
        "colab": {
          "base_uri": "https://localhost:8080/"
        },
        "id": "8yW_dgif2f_w",
        "outputId": "a826ae2f-3e60-4d72-efa0-efb1a1055651"
      },
      "execution_count": 22,
      "outputs": [
        {
          "output_type": "stream",
          "name": "stdout",
          "text": [
            "   count\n",
            "0   1470\n",
            "1   1319\n",
            "2    107\n",
            "3     89\n",
            "4     32\n",
            "5      2\n"
          ]
        }
      ]
    },
    {
      "cell_type": "markdown",
      "source": [
        "distinct 위치는 count 안, 기준 앞"
      ],
      "metadata": {
        "id": "tP_GUlYn5mgx"
      }
    },
    {
      "cell_type": "markdown",
      "source": [
        "#### **정답**"
      ],
      "metadata": {
        "id": "tZ99lLMo5LkR"
      }
    },
    {
      "cell_type": "code",
      "source": [
        "q = \"\"\"\n",
        "  SELECT actiontype, count(distinct sessionid) as session_cnt_uniq\n",
        "  FROM df\n",
        "  GROUP BY actiontype\n",
        "  ORDER BY session_cnt_uniq DESC\n",
        "  \"\"\"\n",
        "\n",
        "print(sqldf(q,locals()).to_string())"
      ],
      "metadata": {
        "colab": {
          "base_uri": "https://localhost:8080/"
        },
        "id": "YBBBzgKs5N85",
        "outputId": "7f5e0a2a-86d8-4b1d-f558-04b0be5e0fc2"
      },
      "execution_count": 54,
      "outputs": [
        {
          "output_type": "stream",
          "name": "stdout",
          "text": [
            "    actiontype  session_cnt_uniq\n",
            "0         OPEN              1503\n",
            "1        CLOSE              1315\n",
            "2         SAVE                79\n",
            "3       SAVEAS                57\n",
            "4        RESET                55\n",
            "5  EXPORT_SAME                 1\n"
          ]
        }
      ]
    },
    {
      "cell_type": "code",
      "source": [
        "# 판다스로 나타내기\n",
        "df.groupby(\"actiontype\")['sessionid'].nunique().sort_values(ascending=False).reset_index()"
      ],
      "metadata": {
        "colab": {
          "base_uri": "https://localhost:8080/",
          "height": 237
        },
        "id": "UvZ9f-ht74yc",
        "outputId": "bee35004-d6cc-4a69-ed58-409d2d05beda"
      },
      "execution_count": 55,
      "outputs": [
        {
          "output_type": "execute_result",
          "data": {
            "text/plain": [
              "    actiontype  sessionid\n",
              "0         OPEN       1503\n",
              "1        CLOSE       1315\n",
              "2         SAVE         79\n",
              "3       SAVEAS         57\n",
              "4        RESET         55\n",
              "5  EXPORT_SAME          1"
            ],
            "text/html": [
              "\n",
              "  <div id=\"df-3c119df9-745b-469c-9a4a-cd7886fc2254\">\n",
              "    <div class=\"colab-df-container\">\n",
              "      <div>\n",
              "<style scoped>\n",
              "    .dataframe tbody tr th:only-of-type {\n",
              "        vertical-align: middle;\n",
              "    }\n",
              "\n",
              "    .dataframe tbody tr th {\n",
              "        vertical-align: top;\n",
              "    }\n",
              "\n",
              "    .dataframe thead th {\n",
              "        text-align: right;\n",
              "    }\n",
              "</style>\n",
              "<table border=\"1\" class=\"dataframe\">\n",
              "  <thead>\n",
              "    <tr style=\"text-align: right;\">\n",
              "      <th></th>\n",
              "      <th>actiontype</th>\n",
              "      <th>sessionid</th>\n",
              "    </tr>\n",
              "  </thead>\n",
              "  <tbody>\n",
              "    <tr>\n",
              "      <th>0</th>\n",
              "      <td>OPEN</td>\n",
              "      <td>1503</td>\n",
              "    </tr>\n",
              "    <tr>\n",
              "      <th>1</th>\n",
              "      <td>CLOSE</td>\n",
              "      <td>1315</td>\n",
              "    </tr>\n",
              "    <tr>\n",
              "      <th>2</th>\n",
              "      <td>SAVE</td>\n",
              "      <td>79</td>\n",
              "    </tr>\n",
              "    <tr>\n",
              "      <th>3</th>\n",
              "      <td>SAVEAS</td>\n",
              "      <td>57</td>\n",
              "    </tr>\n",
              "    <tr>\n",
              "      <th>4</th>\n",
              "      <td>RESET</td>\n",
              "      <td>55</td>\n",
              "    </tr>\n",
              "    <tr>\n",
              "      <th>5</th>\n",
              "      <td>EXPORT_SAME</td>\n",
              "      <td>1</td>\n",
              "    </tr>\n",
              "  </tbody>\n",
              "</table>\n",
              "</div>\n",
              "      <button class=\"colab-df-convert\" onclick=\"convertToInteractive('df-3c119df9-745b-469c-9a4a-cd7886fc2254')\"\n",
              "              title=\"Convert this dataframe to an interactive table.\"\n",
              "              style=\"display:none;\">\n",
              "        \n",
              "  <svg xmlns=\"http://www.w3.org/2000/svg\" height=\"24px\"viewBox=\"0 0 24 24\"\n",
              "       width=\"24px\">\n",
              "    <path d=\"M0 0h24v24H0V0z\" fill=\"none\"/>\n",
              "    <path d=\"M18.56 5.44l.94 2.06.94-2.06 2.06-.94-2.06-.94-.94-2.06-.94 2.06-2.06.94zm-11 1L8.5 8.5l.94-2.06 2.06-.94-2.06-.94L8.5 2.5l-.94 2.06-2.06.94zm10 10l.94 2.06.94-2.06 2.06-.94-2.06-.94-.94-2.06-.94 2.06-2.06.94z\"/><path d=\"M17.41 7.96l-1.37-1.37c-.4-.4-.92-.59-1.43-.59-.52 0-1.04.2-1.43.59L10.3 9.45l-7.72 7.72c-.78.78-.78 2.05 0 2.83L4 21.41c.39.39.9.59 1.41.59.51 0 1.02-.2 1.41-.59l7.78-7.78 2.81-2.81c.8-.78.8-2.07 0-2.86zM5.41 20L4 18.59l7.72-7.72 1.47 1.35L5.41 20z\"/>\n",
              "  </svg>\n",
              "      </button>\n",
              "      \n",
              "  <style>\n",
              "    .colab-df-container {\n",
              "      display:flex;\n",
              "      flex-wrap:wrap;\n",
              "      gap: 12px;\n",
              "    }\n",
              "\n",
              "    .colab-df-convert {\n",
              "      background-color: #E8F0FE;\n",
              "      border: none;\n",
              "      border-radius: 50%;\n",
              "      cursor: pointer;\n",
              "      display: none;\n",
              "      fill: #1967D2;\n",
              "      height: 32px;\n",
              "      padding: 0 0 0 0;\n",
              "      width: 32px;\n",
              "    }\n",
              "\n",
              "    .colab-df-convert:hover {\n",
              "      background-color: #E2EBFA;\n",
              "      box-shadow: 0px 1px 2px rgba(60, 64, 67, 0.3), 0px 1px 3px 1px rgba(60, 64, 67, 0.15);\n",
              "      fill: #174EA6;\n",
              "    }\n",
              "\n",
              "    [theme=dark] .colab-df-convert {\n",
              "      background-color: #3B4455;\n",
              "      fill: #D2E3FC;\n",
              "    }\n",
              "\n",
              "    [theme=dark] .colab-df-convert:hover {\n",
              "      background-color: #434B5C;\n",
              "      box-shadow: 0px 1px 3px 1px rgba(0, 0, 0, 0.15);\n",
              "      filter: drop-shadow(0px 1px 2px rgba(0, 0, 0, 0.3));\n",
              "      fill: #FFFFFF;\n",
              "    }\n",
              "  </style>\n",
              "\n",
              "      <script>\n",
              "        const buttonEl =\n",
              "          document.querySelector('#df-3c119df9-745b-469c-9a4a-cd7886fc2254 button.colab-df-convert');\n",
              "        buttonEl.style.display =\n",
              "          google.colab.kernel.accessAllowed ? 'block' : 'none';\n",
              "\n",
              "        async function convertToInteractive(key) {\n",
              "          const element = document.querySelector('#df-3c119df9-745b-469c-9a4a-cd7886fc2254');\n",
              "          const dataTable =\n",
              "            await google.colab.kernel.invokeFunction('convertToInteractive',\n",
              "                                                     [key], {});\n",
              "          if (!dataTable) return;\n",
              "\n",
              "          const docLinkHtml = 'Like what you see? Visit the ' +\n",
              "            '<a target=\"_blank\" href=https://colab.research.google.com/notebooks/data_table.ipynb>data table notebook</a>'\n",
              "            + ' to learn more about interactive tables.';\n",
              "          element.innerHTML = '';\n",
              "          dataTable['output_type'] = 'display_data';\n",
              "          await google.colab.output.renderOutput(dataTable, element);\n",
              "          const docLink = document.createElement('div');\n",
              "          docLink.innerHTML = docLinkHtml;\n",
              "          element.appendChild(docLink);\n",
              "        }\n",
              "      </script>\n",
              "    </div>\n",
              "  </div>\n",
              "  "
            ]
          },
          "metadata": {},
          "execution_count": 55
        }
      ]
    },
    {
      "cell_type": "markdown",
      "source": [
        "#### **Question 2**"
      ],
      "metadata": {
        "id": "UhYTgUMv5vHw"
      }
    },
    {
      "cell_type": "markdown",
      "source": [
        "- ismydoc이 1(True)인 경우에 한해, 날짜별 세션수의 유니크 빈도 구하기\n",
        "- 유니크 빈도가 가장 큰 top 5 날짜 확인하기"
      ],
      "metadata": {
        "id": "6zTlvRzV5zjH"
      }
    },
    {
      "cell_type": "code",
      "source": [
        "q = \"\"\"\n",
        "  SELECT datetime, count(distinct sessionid) as session_cnt_uniq\n",
        "  FROM df\n",
        "  WHERE ismydoc = '1'\n",
        "  GROUP BY datetime\n",
        "  ORDER BY session_cnt_uniq DESC\n",
        "  LIMIT 5 \n",
        "  \"\"\""
      ],
      "metadata": {
        "id": "S48JvQcg5ki6"
      },
      "execution_count": 71,
      "outputs": []
    },
    {
      "cell_type": "markdown",
      "source": [
        "LIMIT는 = 없이"
      ],
      "metadata": {
        "id": "gzp30Nda7FeU"
      }
    },
    {
      "cell_type": "markdown",
      "source": [
        "오잉 결과값이 왜 다르지?"
      ],
      "metadata": {
        "id": "KPYoRPA37rR4"
      }
    },
    {
      "cell_type": "code",
      "source": [
        "print(sqldf(q,locals()).to_string())"
      ],
      "metadata": {
        "colab": {
          "base_uri": "https://localhost:8080/"
        },
        "id": "fk9VFhES6u9B",
        "outputId": "0761fb2c-f8ac-451a-96c3-9d9bc36f8a93"
      },
      "execution_count": 73,
      "outputs": [
        {
          "output_type": "stream",
          "name": "stdout",
          "text": [
            "    datetime  session_cnt_uniq\n",
            "0  2016.7.12                58\n",
            "1  2016.7.19                58\n",
            "2  2016.7.14                56\n",
            "3  2016.7.20                54\n",
            "4  2016.7.13                53\n"
          ]
        }
      ]
    },
    {
      "cell_type": "code",
      "source": [
        "df"
      ],
      "metadata": {
        "colab": {
          "base_uri": "https://localhost:8080/",
          "height": 423
        },
        "id": "RodrLA4982Ib",
        "outputId": "394627a6-f1be-4201-fcd7-414cb3d07101"
      },
      "execution_count": 64,
      "outputs": [
        {
          "output_type": "execute_result",
          "data": {
            "text/plain": [
              "       actiontype  ismydoc   ext                         sessionid  \\\n",
              "24979       CLOSE     True   PDF  c94aab1f65add34cd46eb7ac57fbab50   \n",
              "148146       OPEN     True   TXT  aaa1b9cee6214472c8b4ee1895e62c34   \n",
              "210323       OPEN     True  XLSX  f99b8ecdde178a2ac8e47fe64dd54be6   \n",
              "49459       CLOSE    False  DOCX  81380669b71c9d2841e3ba263c48ff14   \n",
              "186895       OPEN     True   PPT  72250ea3ac5f1b7f7b6183f2d39662da   \n",
              "...           ...      ...   ...                               ...   \n",
              "60787        OPEN     True  XLSX  34def873d6fe285a2c58066353b9e7e6   \n",
              "281226       OPEN    False  DOCX  7e21f84d2a30e27192e10516487d7f75   \n",
              "134566       OPEN    False   PDF  bc52910bc81455b0afcc667c795f3818   \n",
              "30348        OPEN     True  DOCX  afe6e4eaa5e047e18a629dd1e6b0931b   \n",
              "17717        OPEN    False   PDF  fa05e6b496098aa0de080137b08da378   \n",
              "\n",
              "       documentposition   datetime  \n",
              "24979    MYPOLARISDRIVE   2016.7.6  \n",
              "148146   MYPOLARISDRIVE   2016.7.9  \n",
              "210323         OTHERAPP  2016.7.15  \n",
              "49459          OTHERAPP  2016.7.25  \n",
              "186895         OTHERAPP   2016.7.4  \n",
              "...                 ...        ...  \n",
              "60787    MYPOLARISDRIVE  2016.7.26  \n",
              "281226         OTHERAPP  2016.7.27  \n",
              "134566         OTHERAPP  2016.7.14  \n",
              "30348          OTHERAPP  2016.7.11  \n",
              "17717          OTHERAPP  2016.7.30  \n",
              "\n",
              "[3019 rows x 6 columns]"
            ],
            "text/html": [
              "\n",
              "  <div id=\"df-c6f37d00-f15c-4674-925e-93647064164e\">\n",
              "    <div class=\"colab-df-container\">\n",
              "      <div>\n",
              "<style scoped>\n",
              "    .dataframe tbody tr th:only-of-type {\n",
              "        vertical-align: middle;\n",
              "    }\n",
              "\n",
              "    .dataframe tbody tr th {\n",
              "        vertical-align: top;\n",
              "    }\n",
              "\n",
              "    .dataframe thead th {\n",
              "        text-align: right;\n",
              "    }\n",
              "</style>\n",
              "<table border=\"1\" class=\"dataframe\">\n",
              "  <thead>\n",
              "    <tr style=\"text-align: right;\">\n",
              "      <th></th>\n",
              "      <th>actiontype</th>\n",
              "      <th>ismydoc</th>\n",
              "      <th>ext</th>\n",
              "      <th>sessionid</th>\n",
              "      <th>documentposition</th>\n",
              "      <th>datetime</th>\n",
              "    </tr>\n",
              "  </thead>\n",
              "  <tbody>\n",
              "    <tr>\n",
              "      <th>24979</th>\n",
              "      <td>CLOSE</td>\n",
              "      <td>True</td>\n",
              "      <td>PDF</td>\n",
              "      <td>c94aab1f65add34cd46eb7ac57fbab50</td>\n",
              "      <td>MYPOLARISDRIVE</td>\n",
              "      <td>2016.7.6</td>\n",
              "    </tr>\n",
              "    <tr>\n",
              "      <th>148146</th>\n",
              "      <td>OPEN</td>\n",
              "      <td>True</td>\n",
              "      <td>TXT</td>\n",
              "      <td>aaa1b9cee6214472c8b4ee1895e62c34</td>\n",
              "      <td>MYPOLARISDRIVE</td>\n",
              "      <td>2016.7.9</td>\n",
              "    </tr>\n",
              "    <tr>\n",
              "      <th>210323</th>\n",
              "      <td>OPEN</td>\n",
              "      <td>True</td>\n",
              "      <td>XLSX</td>\n",
              "      <td>f99b8ecdde178a2ac8e47fe64dd54be6</td>\n",
              "      <td>OTHERAPP</td>\n",
              "      <td>2016.7.15</td>\n",
              "    </tr>\n",
              "    <tr>\n",
              "      <th>49459</th>\n",
              "      <td>CLOSE</td>\n",
              "      <td>False</td>\n",
              "      <td>DOCX</td>\n",
              "      <td>81380669b71c9d2841e3ba263c48ff14</td>\n",
              "      <td>OTHERAPP</td>\n",
              "      <td>2016.7.25</td>\n",
              "    </tr>\n",
              "    <tr>\n",
              "      <th>186895</th>\n",
              "      <td>OPEN</td>\n",
              "      <td>True</td>\n",
              "      <td>PPT</td>\n",
              "      <td>72250ea3ac5f1b7f7b6183f2d39662da</td>\n",
              "      <td>OTHERAPP</td>\n",
              "      <td>2016.7.4</td>\n",
              "    </tr>\n",
              "    <tr>\n",
              "      <th>...</th>\n",
              "      <td>...</td>\n",
              "      <td>...</td>\n",
              "      <td>...</td>\n",
              "      <td>...</td>\n",
              "      <td>...</td>\n",
              "      <td>...</td>\n",
              "    </tr>\n",
              "    <tr>\n",
              "      <th>60787</th>\n",
              "      <td>OPEN</td>\n",
              "      <td>True</td>\n",
              "      <td>XLSX</td>\n",
              "      <td>34def873d6fe285a2c58066353b9e7e6</td>\n",
              "      <td>MYPOLARISDRIVE</td>\n",
              "      <td>2016.7.26</td>\n",
              "    </tr>\n",
              "    <tr>\n",
              "      <th>281226</th>\n",
              "      <td>OPEN</td>\n",
              "      <td>False</td>\n",
              "      <td>DOCX</td>\n",
              "      <td>7e21f84d2a30e27192e10516487d7f75</td>\n",
              "      <td>OTHERAPP</td>\n",
              "      <td>2016.7.27</td>\n",
              "    </tr>\n",
              "    <tr>\n",
              "      <th>134566</th>\n",
              "      <td>OPEN</td>\n",
              "      <td>False</td>\n",
              "      <td>PDF</td>\n",
              "      <td>bc52910bc81455b0afcc667c795f3818</td>\n",
              "      <td>OTHERAPP</td>\n",
              "      <td>2016.7.14</td>\n",
              "    </tr>\n",
              "    <tr>\n",
              "      <th>30348</th>\n",
              "      <td>OPEN</td>\n",
              "      <td>True</td>\n",
              "      <td>DOCX</td>\n",
              "      <td>afe6e4eaa5e047e18a629dd1e6b0931b</td>\n",
              "      <td>OTHERAPP</td>\n",
              "      <td>2016.7.11</td>\n",
              "    </tr>\n",
              "    <tr>\n",
              "      <th>17717</th>\n",
              "      <td>OPEN</td>\n",
              "      <td>False</td>\n",
              "      <td>PDF</td>\n",
              "      <td>fa05e6b496098aa0de080137b08da378</td>\n",
              "      <td>OTHERAPP</td>\n",
              "      <td>2016.7.30</td>\n",
              "    </tr>\n",
              "  </tbody>\n",
              "</table>\n",
              "<p>3019 rows × 6 columns</p>\n",
              "</div>\n",
              "      <button class=\"colab-df-convert\" onclick=\"convertToInteractive('df-c6f37d00-f15c-4674-925e-93647064164e')\"\n",
              "              title=\"Convert this dataframe to an interactive table.\"\n",
              "              style=\"display:none;\">\n",
              "        \n",
              "  <svg xmlns=\"http://www.w3.org/2000/svg\" height=\"24px\"viewBox=\"0 0 24 24\"\n",
              "       width=\"24px\">\n",
              "    <path d=\"M0 0h24v24H0V0z\" fill=\"none\"/>\n",
              "    <path d=\"M18.56 5.44l.94 2.06.94-2.06 2.06-.94-2.06-.94-.94-2.06-.94 2.06-2.06.94zm-11 1L8.5 8.5l.94-2.06 2.06-.94-2.06-.94L8.5 2.5l-.94 2.06-2.06.94zm10 10l.94 2.06.94-2.06 2.06-.94-2.06-.94-.94-2.06-.94 2.06-2.06.94z\"/><path d=\"M17.41 7.96l-1.37-1.37c-.4-.4-.92-.59-1.43-.59-.52 0-1.04.2-1.43.59L10.3 9.45l-7.72 7.72c-.78.78-.78 2.05 0 2.83L4 21.41c.39.39.9.59 1.41.59.51 0 1.02-.2 1.41-.59l7.78-7.78 2.81-2.81c.8-.78.8-2.07 0-2.86zM5.41 20L4 18.59l7.72-7.72 1.47 1.35L5.41 20z\"/>\n",
              "  </svg>\n",
              "      </button>\n",
              "      \n",
              "  <style>\n",
              "    .colab-df-container {\n",
              "      display:flex;\n",
              "      flex-wrap:wrap;\n",
              "      gap: 12px;\n",
              "    }\n",
              "\n",
              "    .colab-df-convert {\n",
              "      background-color: #E8F0FE;\n",
              "      border: none;\n",
              "      border-radius: 50%;\n",
              "      cursor: pointer;\n",
              "      display: none;\n",
              "      fill: #1967D2;\n",
              "      height: 32px;\n",
              "      padding: 0 0 0 0;\n",
              "      width: 32px;\n",
              "    }\n",
              "\n",
              "    .colab-df-convert:hover {\n",
              "      background-color: #E2EBFA;\n",
              "      box-shadow: 0px 1px 2px rgba(60, 64, 67, 0.3), 0px 1px 3px 1px rgba(60, 64, 67, 0.15);\n",
              "      fill: #174EA6;\n",
              "    }\n",
              "\n",
              "    [theme=dark] .colab-df-convert {\n",
              "      background-color: #3B4455;\n",
              "      fill: #D2E3FC;\n",
              "    }\n",
              "\n",
              "    [theme=dark] .colab-df-convert:hover {\n",
              "      background-color: #434B5C;\n",
              "      box-shadow: 0px 1px 3px 1px rgba(0, 0, 0, 0.15);\n",
              "      filter: drop-shadow(0px 1px 2px rgba(0, 0, 0, 0.3));\n",
              "      fill: #FFFFFF;\n",
              "    }\n",
              "  </style>\n",
              "\n",
              "      <script>\n",
              "        const buttonEl =\n",
              "          document.querySelector('#df-c6f37d00-f15c-4674-925e-93647064164e button.colab-df-convert');\n",
              "        buttonEl.style.display =\n",
              "          google.colab.kernel.accessAllowed ? 'block' : 'none';\n",
              "\n",
              "        async function convertToInteractive(key) {\n",
              "          const element = document.querySelector('#df-c6f37d00-f15c-4674-925e-93647064164e');\n",
              "          const dataTable =\n",
              "            await google.colab.kernel.invokeFunction('convertToInteractive',\n",
              "                                                     [key], {});\n",
              "          if (!dataTable) return;\n",
              "\n",
              "          const docLinkHtml = 'Like what you see? Visit the ' +\n",
              "            '<a target=\"_blank\" href=https://colab.research.google.com/notebooks/data_table.ipynb>data table notebook</a>'\n",
              "            + ' to learn more about interactive tables.';\n",
              "          element.innerHTML = '';\n",
              "          dataTable['output_type'] = 'display_data';\n",
              "          await google.colab.output.renderOutput(dataTable, element);\n",
              "          const docLink = document.createElement('div');\n",
              "          docLink.innerHTML = docLinkHtml;\n",
              "          element.appendChild(docLink);\n",
              "        }\n",
              "      </script>\n",
              "    </div>\n",
              "  </div>\n",
              "  "
            ]
          },
          "metadata": {},
          "execution_count": 64
        }
      ]
    },
    {
      "cell_type": "code",
      "source": [
        "df.query(\"ismydoc == 1\").groupby(\"datetime\")['sessionid'].nunique().sort_values(ascending=False).head(5).reset_index()"
      ],
      "metadata": {
        "colab": {
          "base_uri": "https://localhost:8080/",
          "height": 206
        },
        "id": "_JVu30jA8H3_",
        "outputId": "de725c59-267f-4787-fc6c-12be98fd2a35"
      },
      "execution_count": 74,
      "outputs": [
        {
          "output_type": "execute_result",
          "data": {
            "text/plain": [
              "    datetime  sessionid\n",
              "0  2016.7.19         58\n",
              "1  2016.7.12         58\n",
              "2  2016.7.14         56\n",
              "3  2016.7.20         54\n",
              "4  2016.7.13         53"
            ],
            "text/html": [
              "\n",
              "  <div id=\"df-2bdbd1db-18bc-46a8-9f6d-fe232cb2bf11\">\n",
              "    <div class=\"colab-df-container\">\n",
              "      <div>\n",
              "<style scoped>\n",
              "    .dataframe tbody tr th:only-of-type {\n",
              "        vertical-align: middle;\n",
              "    }\n",
              "\n",
              "    .dataframe tbody tr th {\n",
              "        vertical-align: top;\n",
              "    }\n",
              "\n",
              "    .dataframe thead th {\n",
              "        text-align: right;\n",
              "    }\n",
              "</style>\n",
              "<table border=\"1\" class=\"dataframe\">\n",
              "  <thead>\n",
              "    <tr style=\"text-align: right;\">\n",
              "      <th></th>\n",
              "      <th>datetime</th>\n",
              "      <th>sessionid</th>\n",
              "    </tr>\n",
              "  </thead>\n",
              "  <tbody>\n",
              "    <tr>\n",
              "      <th>0</th>\n",
              "      <td>2016.7.19</td>\n",
              "      <td>58</td>\n",
              "    </tr>\n",
              "    <tr>\n",
              "      <th>1</th>\n",
              "      <td>2016.7.12</td>\n",
              "      <td>58</td>\n",
              "    </tr>\n",
              "    <tr>\n",
              "      <th>2</th>\n",
              "      <td>2016.7.14</td>\n",
              "      <td>56</td>\n",
              "    </tr>\n",
              "    <tr>\n",
              "      <th>3</th>\n",
              "      <td>2016.7.20</td>\n",
              "      <td>54</td>\n",
              "    </tr>\n",
              "    <tr>\n",
              "      <th>4</th>\n",
              "      <td>2016.7.13</td>\n",
              "      <td>53</td>\n",
              "    </tr>\n",
              "  </tbody>\n",
              "</table>\n",
              "</div>\n",
              "      <button class=\"colab-df-convert\" onclick=\"convertToInteractive('df-2bdbd1db-18bc-46a8-9f6d-fe232cb2bf11')\"\n",
              "              title=\"Convert this dataframe to an interactive table.\"\n",
              "              style=\"display:none;\">\n",
              "        \n",
              "  <svg xmlns=\"http://www.w3.org/2000/svg\" height=\"24px\"viewBox=\"0 0 24 24\"\n",
              "       width=\"24px\">\n",
              "    <path d=\"M0 0h24v24H0V0z\" fill=\"none\"/>\n",
              "    <path d=\"M18.56 5.44l.94 2.06.94-2.06 2.06-.94-2.06-.94-.94-2.06-.94 2.06-2.06.94zm-11 1L8.5 8.5l.94-2.06 2.06-.94-2.06-.94L8.5 2.5l-.94 2.06-2.06.94zm10 10l.94 2.06.94-2.06 2.06-.94-2.06-.94-.94-2.06-.94 2.06-2.06.94z\"/><path d=\"M17.41 7.96l-1.37-1.37c-.4-.4-.92-.59-1.43-.59-.52 0-1.04.2-1.43.59L10.3 9.45l-7.72 7.72c-.78.78-.78 2.05 0 2.83L4 21.41c.39.39.9.59 1.41.59.51 0 1.02-.2 1.41-.59l7.78-7.78 2.81-2.81c.8-.78.8-2.07 0-2.86zM5.41 20L4 18.59l7.72-7.72 1.47 1.35L5.41 20z\"/>\n",
              "  </svg>\n",
              "      </button>\n",
              "      \n",
              "  <style>\n",
              "    .colab-df-container {\n",
              "      display:flex;\n",
              "      flex-wrap:wrap;\n",
              "      gap: 12px;\n",
              "    }\n",
              "\n",
              "    .colab-df-convert {\n",
              "      background-color: #E8F0FE;\n",
              "      border: none;\n",
              "      border-radius: 50%;\n",
              "      cursor: pointer;\n",
              "      display: none;\n",
              "      fill: #1967D2;\n",
              "      height: 32px;\n",
              "      padding: 0 0 0 0;\n",
              "      width: 32px;\n",
              "    }\n",
              "\n",
              "    .colab-df-convert:hover {\n",
              "      background-color: #E2EBFA;\n",
              "      box-shadow: 0px 1px 2px rgba(60, 64, 67, 0.3), 0px 1px 3px 1px rgba(60, 64, 67, 0.15);\n",
              "      fill: #174EA6;\n",
              "    }\n",
              "\n",
              "    [theme=dark] .colab-df-convert {\n",
              "      background-color: #3B4455;\n",
              "      fill: #D2E3FC;\n",
              "    }\n",
              "\n",
              "    [theme=dark] .colab-df-convert:hover {\n",
              "      background-color: #434B5C;\n",
              "      box-shadow: 0px 1px 3px 1px rgba(0, 0, 0, 0.15);\n",
              "      filter: drop-shadow(0px 1px 2px rgba(0, 0, 0, 0.3));\n",
              "      fill: #FFFFFF;\n",
              "    }\n",
              "  </style>\n",
              "\n",
              "      <script>\n",
              "        const buttonEl =\n",
              "          document.querySelector('#df-2bdbd1db-18bc-46a8-9f6d-fe232cb2bf11 button.colab-df-convert');\n",
              "        buttonEl.style.display =\n",
              "          google.colab.kernel.accessAllowed ? 'block' : 'none';\n",
              "\n",
              "        async function convertToInteractive(key) {\n",
              "          const element = document.querySelector('#df-2bdbd1db-18bc-46a8-9f6d-fe232cb2bf11');\n",
              "          const dataTable =\n",
              "            await google.colab.kernel.invokeFunction('convertToInteractive',\n",
              "                                                     [key], {});\n",
              "          if (!dataTable) return;\n",
              "\n",
              "          const docLinkHtml = 'Like what you see? Visit the ' +\n",
              "            '<a target=\"_blank\" href=https://colab.research.google.com/notebooks/data_table.ipynb>data table notebook</a>'\n",
              "            + ' to learn more about interactive tables.';\n",
              "          element.innerHTML = '';\n",
              "          dataTable['output_type'] = 'display_data';\n",
              "          await google.colab.output.renderOutput(dataTable, element);\n",
              "          const docLink = document.createElement('div');\n",
              "          docLink.innerHTML = docLinkHtml;\n",
              "          element.appendChild(docLink);\n",
              "        }\n",
              "      </script>\n",
              "    </div>\n",
              "  </div>\n",
              "  "
            ]
          },
          "metadata": {},
          "execution_count": 74
        }
      ]
    }
  ]
}